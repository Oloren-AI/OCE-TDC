{
 "cells": [
  {
   "cell_type": "code",
   "execution_count": 1,
   "metadata": {},
   "outputs": [
    {
     "name": "stderr",
     "output_type": "stream",
     "text": [
      "2022-12-17 02:27:21.939576: I tensorflow/core/platform/cpu_feature_guard.cc:193] This TensorFlow binary is optimized with oneAPI Deep Neural Network Library (oneDNN) to use the following CPU instructions in performance-critical operations:  AVX2 FMA\n",
      "To enable them in other operations, rebuild TensorFlow with the appropriate compiler flags.\n",
      "2022-12-17 02:27:22.660939: W tensorflow/compiler/xla/stream_executor/platform/default/dso_loader.cc:64] Could not load dynamic library 'libnvinfer.so.7'; dlerror: libnvinfer.so.7: cannot open shared object file: No such file or directory\n",
      "2022-12-17 02:27:22.661023: W tensorflow/compiler/xla/stream_executor/platform/default/dso_loader.cc:64] Could not load dynamic library 'libnvinfer_plugin.so.7'; dlerror: libnvinfer_plugin.so.7: cannot open shared object file: No such file or directory\n",
      "2022-12-17 02:27:22.661030: W tensorflow/compiler/tf2tensorrt/utils/py_utils.cc:38] TF-TRT Warning: Cannot dlopen some TensorRT libraries. If you would like to use Nvidia GPU with TensorRT, please make sure the missing libraries mentioned above are installed properly.\n"
     ]
    }
   ],
   "source": [
    "import olorenchemengine as oce\n",
    "from tqdm import tqdm\n",
    "from tdc.benchmark_group import admet_group\n",
    "import numpy as np"
   ]
  },
  {
   "cell_type": "code",
   "execution_count": 2,
   "metadata": {},
   "outputs": [],
   "source": [
    "models = {\n",
    "    'BaseBoosting KyQVZ6b2': \"{'BC_class_name': 'BaseBoosting', 'args': [[{'BC_class_name': 'RandomForestModel', 'args': [{'BC_class_name': 'DescriptastorusDescriptor', 'args': ['rdkit2dnormalized'], 'kwargs': {'log': True, 'scale': None}}], 'kwargs': {'n_estimators': 2000, 'max_features': 'auto', 'max_depth': 7, 'criterion': 'entropy', 'class_weight': None, 'bootstrap': True}}, {'BC_class_name': 'ChemPropModel', 'args': [], 'kwargs': {'epochs': 400, 'batch_size': 16, 'dropout_rate': 0.2, 'lr': 0.001, 'hidden_size': 300, 'depth': 3}}]], 'kwargs': {'n': 1, 'oof': False, 'nfolds': 5, 'log': True}}\",\n",
    "}"
   ]
  },
  {
   "cell_type": "code",
   "execution_count": 3,
   "metadata": {},
   "outputs": [],
   "source": [
    "model_dict = {\n",
    "    'LD50_Zhu': models[\"BaseBoosting KyQVZ6b2\"],\n",
    "    'PPBR_AZ': models[\"BaseBoosting KyQVZ6b2\"],\n",
    "    'Lipophilicity_AstraZeneca': models['BaseBoosting KyQVZ6b2']\n",
    "}"
   ]
  },
  {
   "cell_type": "code",
   "execution_count": 4,
   "metadata": {},
   "outputs": [],
   "source": [
    "#EDIT THIS CELL\n",
    "#Specify 'ALL' or the task name enumerated in the keys of model_dict.\n",
    "TASK_NAME = 'ALL'"
   ]
  },
  {
   "cell_type": "code",
   "execution_count": 5,
   "metadata": {},
   "outputs": [
    {
     "name": "stderr",
     "output_type": "stream",
     "text": [
      "Downloading Benchmark Group...\n"
     ]
    },
    {
     "name": "stdout",
     "output_type": "stream",
     "text": [
      "__________________________\n"
     ]
    },
    {
     "name": "stderr",
     "output_type": "stream",
     "text": [
      "100%|██████████| 1.47M/1.47M [00:00<00:00, 19.3MiB/s]\n",
      "Extracting zip file...\n",
      "Done!\n",
      "5907it [00:11, 520.63it/s]0<?, ?it/s]\n",
      "5907it [00:11, 519.41it/s]\n",
      "100%|██████████| 370/370 [00:00<00:00, 476.33it/s]\n",
      "1478it [00:03, 466.62it/s]\n",
      "100%|██████████| 93/93 [00:00<00:00, 472.78it/s]\n",
      "5907it [00:11, 507.31it/s]6<41:44, 626.12s/it]\n",
      "5907it [00:11, 517.02it/s]\n",
      "100%|██████████| 370/370 [00:00<00:00, 478.82it/s]\n",
      "1478it [00:03, 462.02it/s]\n",
      "100%|██████████| 93/93 [00:00<00:00, 465.80it/s]\n",
      "5907it [00:11, 517.08it/s]3<31:21, 627.13s/it]\n",
      "5907it [00:11, 531.09it/s]\n",
      "100%|██████████| 370/370 [00:00<00:00, 483.84it/s]\n",
      "1478it [00:03, 462.83it/s]\n",
      "100%|██████████| 93/93 [00:00<00:00, 461.32it/s]\n",
      "5907it [00:11, 520.84it/s]6<20:58, 629.42s/it]\n",
      "5907it [00:11, 519.06it/s]\n",
      "100%|██████████| 370/370 [00:00<00:00, 479.27it/s]\n",
      "1478it [00:03, 464.58it/s]\n",
      "100%|██████████| 93/93 [00:00<00:00, 464.59it/s]\n",
      "5907it [00:11, 517.66it/s]4<10:29, 629.10s/it]\n",
      "5907it [00:11, 529.25it/s]\n",
      "100%|██████████| 370/370 [00:00<00:00, 473.76it/s]\n",
      "1478it [00:03, 466.26it/s]\n",
      "100%|██████████| 93/93 [00:00<00:00, 471.19it/s]\n",
      "100%|██████████| 5/5 [52:33<00:00, 630.77s/it]\n",
      "Found local copy...\n"
     ]
    },
    {
     "name": "stdout",
     "output_type": "stream",
     "text": [
      "__________________________\n"
     ]
    },
    {
     "name": "stderr",
     "output_type": "stream",
     "text": [
      "2231it [00:06, 322.36it/s]0<?, ?it/s]\n",
      "2231it [00:06, 325.80it/s]\n",
      "100%|██████████| 140/140 [00:00<00:00, 469.39it/s]\n",
      "559it [00:01, 319.78it/s]\n",
      "100%|██████████| 35/35 [00:00<00:00, 447.13it/s]\n",
      "2231it [00:06, 324.59it/s]0<31:23, 470.75s/it]\n",
      "2231it [00:06, 325.56it/s]\n",
      "100%|██████████| 140/140 [00:00<00:00, 470.04it/s]\n",
      "559it [00:01, 316.92it/s]\n",
      "100%|██████████| 35/35 [00:00<00:00, 448.52it/s]\n",
      "2231it [00:06, 323.77it/s]2<17:40, 353.58s/it]\n",
      "2231it [00:06, 325.51it/s]\n",
      "100%|██████████| 140/140 [00:00<00:00, 451.30it/s]\n",
      "559it [00:01, 316.80it/s]\n",
      "100%|██████████| 35/35 [00:00<00:00, 460.29it/s]\n",
      "2231it [00:07, 312.53it/s]0<10:10, 305.34s/it]\n",
      "2231it [00:06, 324.93it/s]\n",
      "100%|██████████| 140/140 [00:00<00:00, 468.93it/s]\n",
      "559it [00:01, 316.56it/s]\n",
      "100%|██████████| 35/35 [00:00<00:00, 466.50it/s]\n",
      "2231it [00:07, 311.88it/s]9<04:43, 283.31s/it]\n",
      "2231it [00:06, 324.71it/s]\n",
      "100%|██████████| 140/140 [00:00<00:00, 456.99it/s]\n",
      "559it [00:01, 316.33it/s]\n",
      "100%|██████████| 35/35 [00:00<00:00, 463.66it/s]\n",
      "100%|██████████| 5/5 [24:47<00:00, 297.49s/it]\n",
      "Found local copy...\n"
     ]
    },
    {
     "name": "stdout",
     "output_type": "stream",
     "text": [
      "__________________________\n"
     ]
    },
    {
     "name": "stderr",
     "output_type": "stream",
     "text": [
      "3360it [00:09, 339.52it/s]0<?, ?it/s]\n",
      "3360it [00:09, 342.75it/s]\n",
      "100%|██████████| 210/210 [00:00<00:00, 468.25it/s]\n",
      "840it [00:02, 332.98it/s]\n",
      "100%|██████████| 53/53 [00:00<00:00, 445.01it/s]\n",
      "3360it [00:09, 340.54it/s]5<45:43, 685.82s/it]\n",
      "3360it [00:09, 342.04it/s]\n",
      "100%|██████████| 210/210 [00:00<00:00, 466.41it/s]\n",
      "840it [00:02, 331.37it/s]\n",
      "100%|██████████| 53/53 [00:00<00:00, 443.15it/s]\n",
      "3360it [00:10, 332.29it/s]0<26:18, 526.24s/it]\n",
      "3360it [00:09, 342.82it/s]\n",
      "100%|██████████| 210/210 [00:00<00:00, 469.84it/s]\n",
      "840it [00:02, 332.02it/s]\n",
      "100%|██████████| 53/53 [00:00<00:00, 459.14it/s]\n",
      "3360it [00:09, 339.88it/s]9<15:08, 454.32s/it]\n",
      "3360it [00:09, 342.45it/s]\n",
      "100%|██████████| 210/210 [00:00<00:00, 470.27it/s]\n",
      "840it [00:02, 330.87it/s]\n",
      "100%|██████████| 53/53 [00:00<00:00, 450.89it/s]\n",
      "3360it [00:10, 335.72it/s]8<07:00, 420.77s/it]\n",
      "3360it [00:09, 342.29it/s]\n",
      "100%|██████████| 210/210 [00:00<00:00, 462.76it/s]\n",
      "840it [00:02, 305.07it/s]\n",
      "100%|██████████| 53/53 [00:00<00:00, 455.39it/s]\n",
      "100%|██████████| 5/5 [36:49<00:00, 441.99s/it]"
     ]
    },
    {
     "name": "stdout",
     "output_type": "stream",
     "text": [
      "{'LD50_Zhu': [0.552, 0.009], 'PPBR_AZ': [7.914, 0.096], 'Lipophilicity_AstraZeneca': [0.479, 0.007]}\n"
     ]
    },
    {
     "name": "stderr",
     "output_type": "stream",
     "text": [
      "\n"
     ]
    }
   ],
   "source": [
    "if TASK_NAME == \"ALL\":\n",
    "    results_dict = {}\n",
    "    for task in model_dict.keys():\n",
    "        print(\"__________________________\")\n",
    "        group = admet_group(path = 'data/')\n",
    "        predictions_list = []\n",
    "        for seed in tqdm([1, 2, 3, 4, 5]):\n",
    "            benchmark = group.get(task) \n",
    "            predictions = {}\n",
    "            name = benchmark['name']\n",
    "            train, test = benchmark['train_val'], benchmark['test']\n",
    "\n",
    "            model = oce.create_BC(model_dict[task])\n",
    "            model.fit(train['Drug'], train['Y'])\n",
    "            y_pred_test = model.predict(test['Drug'])\n",
    "\n",
    "            predictions[name] = y_pred_test\n",
    "            predictions_list.append(predictions)\n",
    "        results = group.evaluate_many(predictions_list)\n",
    "        results_dict[task] = results[task.lower()]\n",
    "    print(results_dict)\n",
    "else:\n",
    "    group = admet_group(path = 'data/')\n",
    "    predictions_list = []\n",
    "    for seed in tqdm([1, 2, 3, 4, 5]):\n",
    "        group = admet_group(path = 'data/')\n",
    "        benchmark = group.get(TASK_NAME) \n",
    "        predictions = {}\n",
    "        name = benchmark['name']\n",
    "        train, test = benchmark['train_val'], benchmark['test']\n",
    "\n",
    "        model = oce.create_BC(model_dict[TASK_NAME])\n",
    "        model.fit(train['Drug'], train['Y'])\n",
    "        y_pred_test = model.predict(test['Drug'])\n",
    "\n",
    "        predictions[name] = y_pred_test\n",
    "        predictions_list.append(predictions)\n",
    "\n",
    "    results = group.evaluate_many(predictions_list)\n",
    "    print(results)"
   ]
  },
  {
   "cell_type": "code",
   "execution_count": 6,
   "metadata": {},
   "outputs": [
    {
     "name": "stdout",
     "output_type": "stream",
     "text": [
      "{'LD50_Zhu': [0.552, 0.009], 'PPBR_AZ': [7.914, 0.096], 'Lipophilicity_AstraZeneca': [0.479, 0.007]}\n"
     ]
    }
   ],
   "source": [
    "print(results_dict)"
   ]
  }
 ],
 "metadata": {
  "kernelspec": {
   "display_name": "Python 3.9.15 ('oce')",
   "language": "python",
   "name": "python3"
  },
  "language_info": {
   "codemirror_mode": {
    "name": "ipython",
    "version": 3
   },
   "file_extension": ".py",
   "mimetype": "text/x-python",
   "name": "python",
   "nbconvert_exporter": "python",
   "pygments_lexer": "ipython3",
   "version": "3.9.15"
  },
  "vscode": {
   "interpreter": {
    "hash": "106d027d5062398cac873161aed9d16750cafe87a273851ecd62758bbea0eb2e"
   }
  }
 },
 "nbformat": 4,
 "nbformat_minor": 2
}
